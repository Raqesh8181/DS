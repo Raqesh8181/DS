{
 "cells": [
  {
   "cell_type": "markdown",
   "id": "8612e6b5-eada-41a4-86a2-5c6c50c7370b",
   "metadata": {},
   "source": [
    "Q1 Which of the following are the type-casting methods in Python Programming language?\n",
    "\n",
    "1. int()\n",
    "\n",
    "2. type()\n",
    "\n",
    "3. float()\n",
    "\n",
    "4. str()\n"
   ]
  },
  {
   "cell_type": "markdown",
   "id": "31ad0bac-db4f-44e4-aa47-1d0bffb58e94",
   "metadata": {},
   "source": [
    "Answer :  1,3,4"
   ]
  },
  {
   "cell_type": "markdown",
   "id": "3f6195cb-33d0-4390-87a4-98b47f0aa973",
   "metadata": {},
   "source": [
    "Q2 Choose the option containing all correct Keywords in Python Programming Language?\n",
    "\n",
    "False, True, None\n",
    "Class, def, continue\n",
    "import, from global\n",
    "or, yield, generator"
   ]
  },
  {
   "cell_type": "markdown",
   "id": "2ac58073-dbe5-4457-93b3-a9d8793b3ded",
   "metadata": {},
   "source": [
    "Answer: 1,2,3"
   ]
  },
  {
   "cell_type": "markdown",
   "id": "08e00bbc-46ba-4a63-a607-51e7b41aca2b",
   "metadata": {},
   "source": [
    "Q3 What will be the output of the following code: 1/ False?\n",
    "inf \n",
    "ZeroDivisionError \n",
    "Zero\n",
    "None"
   ]
  },
  {
   "cell_type": "markdown",
   "id": "c6eaee29-045b-43cd-8130-2d7cc2d6610a",
   "metadata": {},
   "source": [
    "Answer: ZeroDivisionError"
   ]
  },
  {
   "cell_type": "markdown",
   "id": "e229cf50-41b5-489b-912e-c1d138842f55",
   "metadata": {},
   "source": [
    "Q4 Is python a dynamically typed Programming language?"
   ]
  },
  {
   "cell_type": "markdown",
   "id": "5f88792e-58b7-4d21-b274-2241d30fdf3d",
   "metadata": {},
   "source": [
    "Answer: True"
   ]
  },
  {
   "cell_type": "markdown",
   "id": "fe0053b1-199b-459f-a03f-c7098dea9ea1",
   "metadata": {},
   "source": [
    "Q5 What will be the output of the following code:\n",
    "\n",
    "num1= 23\n",
    "\n",
    "num2= 44\n",
    "\n",
    "num2= 2+3j\n",
    "\n",
    "num1= num2.imag\n",
    "\n",
    "num2-num1"
   ]
  },
  {
   "cell_type": "markdown",
   "id": "2c0a82e2-04f0-4ae9-a5be-d783bf77e9a2",
   "metadata": {},
   "source": [
    "Answer: -1 +3j"
   ]
  },
  {
   "cell_type": "markdown",
   "id": "005d3ff2-27a3-4168-9edc-5b658fdf0b11",
   "metadata": {},
   "source": [
    "Q6 Choose the correct code from the options to rectify the following incorrect code.\n",
    "\n",
    " \n",
    "\n",
    "‘Pwskills’ + 1\n",
    "\n",
    "\n",
    "int(‘pwskills’) + 1 \n",
    "\n",
    "\n",
    "int(‘pwskills’) + int(1) \n",
    "\n",
    "\n",
    "‘pwskills’ + type(1)\n",
    "\n",
    "\n",
    "pwskills’ + str(1)"
   ]
  },
  {
   "cell_type": "markdown",
   "id": "ed0839d3-8138-4577-abaf-215cb606d8fa",
   "metadata": {},
   "source": [
    "Answer: 'pwskills’ + str(1)"
   ]
  },
  {
   "cell_type": "markdown",
   "id": "ac5ba350-acc3-4a55-ab2a-1aba2c82d99c",
   "metadata": {},
   "source": [
    "Q7 Please select the legally allowed variable names from the below given variable names.\n",
    "1. 20%_num  \n",
    "2. Num_100   \n",
    "3. Pw-skills   \n",
    "4. _pw_skills"
   ]
  },
  {
   "cell_type": "markdown",
   "id": "f5407446-51bc-4c39-b826-d4ad5e929700",
   "metadata": {},
   "source": [
    "Answer: 2,4"
   ]
  },
  {
   "cell_type": "markdown",
   "id": "b0137a9f-6494-4fe2-b73f-46548267add0",
   "metadata": {},
   "source": [
    "Q8 What is the correct way to define a multiline string?\n",
    "\n",
    "A string enclosed in single triple quotes\n",
    "A string enclosed in double triple quotes"
   ]
  },
  {
   "cell_type": "markdown",
   "id": "c40551f0-a21e-461c-a558-4e55caa0cc9e",
   "metadata": {},
   "source": [
    "Answer: True"
   ]
  },
  {
   "cell_type": "markdown",
   "id": "995e5313-2d47-4608-b09c-49d3ebd0ca97",
   "metadata": {},
   "source": [
    "Q9 What will be the output of the following code: \n",
    "\n",
    "Name = ‘pwskills’\n",
    "\n",
    "Name[0] = ‘P’"
   ]
  },
  {
   "cell_type": "markdown",
   "id": "d005092e-e386-48c1-8b3e-d268f09fa6e0",
   "metadata": {},
   "source": [
    "Answer: TypeError"
   ]
  },
  {
   "cell_type": "markdown",
   "id": "c2d5ae5f-93bf-45e8-bd72-c99190c5190a",
   "metadata": {},
   "source": [
    "Q10 What will be the output of the following code:\n",
    "x = 'pwskills'\n",
    "x.upper().lower().isalnum()"
   ]
  },
  {
   "cell_type": "markdown",
   "id": "73819735-2837-4f88-a527-ae8720ceca5a",
   "metadata": {},
   "source": [
    "Answer: True"
   ]
  }
 ],
 "metadata": {
  "kernelspec": {
   "display_name": "Python 3 (ipykernel)",
   "language": "python",
   "name": "python3"
  },
  "language_info": {
   "codemirror_mode": {
    "name": "ipython",
    "version": 3
   },
   "file_extension": ".py",
   "mimetype": "text/x-python",
   "name": "python",
   "nbconvert_exporter": "python",
   "pygments_lexer": "ipython3",
   "version": "3.10.8"
  }
 },
 "nbformat": 4,
 "nbformat_minor": 5
}
