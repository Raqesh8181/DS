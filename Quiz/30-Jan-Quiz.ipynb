{
 "cells": [
  {
   "cell_type": "markdown",
   "id": "606bb6cb-094a-4ae5-8eb5-c0a9d61e3e8b",
   "metadata": {},
   "source": [
    "Q1. Which of the following are the type-casting methods in Python Programming language?\n",
    "1. int()\n",
    "2. type()\n",
    "3. float()\n",
    "4. str()\n",
    "\n",
    "Answer : 1, 3 and 4"
   ]
  },
  {
   "cell_type": "code",
   "execution_count": null,
   "id": "187e4262-8bc5-46c1-b7b2-cd65f6ac46c2",
   "metadata": {},
   "outputs": [],
   "source": []
  },
  {
   "cell_type": "markdown",
   "id": "bf803923-4e05-43cb-a45f-849510811f47",
   "metadata": {},
   "source": [
    "Q2. What is used for concatenating two or more strings?\n",
    " 1. * \n",
    " 2. /\n",
    " 3. +\n",
    " 4. None\n",
    " \n",
    "Answer : 3"
   ]
  },
  {
   "cell_type": "code",
   "execution_count": null,
   "id": "65030119-3902-4afd-ac97-296f7631478b",
   "metadata": {},
   "outputs": [],
   "source": []
  },
  {
   "cell_type": "markdown",
   "id": "95fdd032-5e1f-4978-ac1e-18ebc83cc79a",
   "metadata": {},
   "source": [
    "Q3 What will be the output of the following code: True/ False\n",
    "\n",
    " 1. inf \n",
    " 2. ZeroDivisionError \n",
    " 3. Zero\n",
    " 4. None\n",
    " \n",
    "Answer : 2"
   ]
  },
  {
   "cell_type": "code",
   "execution_count": null,
   "id": "5856ddc4-122b-47c7-93e0-2bf6879a3f6c",
   "metadata": {},
   "outputs": [],
   "source": []
  },
  {
   "cell_type": "markdown",
   "id": "d0ae6071-9de5-46c7-891a-5d7d8b747863",
   "metadata": {},
   "source": [
    "Q4. Which method is used to check the type and the length of the string variable?\n",
    "\n",
    " a.len() \n",
    " b. type()  \n",
    " c. type() and len()  \n",
    " d. None\n",
    " \n",
    "Answer : c"
   ]
  },
  {
   "cell_type": "code",
   "execution_count": null,
   "id": "0aabc855-e84a-4d30-a40c-f78a18629abd",
   "metadata": {},
   "outputs": [],
   "source": []
  },
  {
   "cell_type": "markdown",
   "id": "a10c55bc-b68a-4b45-8914-2df753bc3725",
   "metadata": {},
   "source": [
    "Q5. What will be the output of the following code:\n",
    "\n",
    "num1= 23\n",
    "\n",
    "num2= 44\n",
    "\n",
    "num2= 2+3j\n",
    "\n",
    "num1= num2.imag\n",
    "\n",
    "num2-num1\n",
    "\n",
    "Answer : -1 + 3j"
   ]
  },
  {
   "cell_type": "code",
   "execution_count": null,
   "id": "142e2d40-bcb6-46ca-b8f6-e05bfe814793",
   "metadata": {},
   "outputs": [],
   "source": []
  },
  {
   "cell_type": "markdown",
   "id": "3583a74b-543d-48c6-a54e-cd17cfca841b",
   "metadata": {},
   "source": [
    "\n",
    "Q6. Choose the correct code from the options to rectify the following incorrect code.\n",
    "\n",
    " ‘Pwskills’ + 1\n",
    "\n",
    " - int(‘pwskills’) + 1 \n",
    " - int(‘pwskills’) + int(1)\n",
    " - ‘pwskills’ + type(1)\n",
    " - ‘pwskills’ + str(1)\n",
    " \n",
    "Answer : 'pwskilss' + str(1)"
   ]
  },
  {
   "cell_type": "code",
   "execution_count": null,
   "id": "25ad84da-bec8-4266-9b4c-5e33841ac7f4",
   "metadata": {},
   "outputs": [],
   "source": []
  },
  {
   "cell_type": "markdown",
   "id": "ee0ac752-b2fc-45d1-bdd4-c264f80315ce",
   "metadata": {},
   "source": [
    "Q7. Please select the legally allowed variable names from the below given variable names.\n",
    "\n",
    "1. 100_num  \n",
    "2. Num_100   \n",
    "3. My-name   \n",
    "4. _my_name\n",
    " \n",
    "Answer : 2 and 4 are correct"
   ]
  },
  {
   "cell_type": "code",
   "execution_count": null,
   "id": "b42e8be3-716f-4617-a8bc-05d987698511",
   "metadata": {},
   "outputs": [],
   "source": []
  },
  {
   "cell_type": "markdown",
   "id": "76a58bd4-2325-4c3b-99bd-0e9b3b65c089",
   "metadata": {},
   "source": [
    "Q8. What is the correct way to define a multiline string?\n",
    "\n",
    " 1. A string enclosed in single triple quotes\n",
    " 2. A string enclosed in double triple quotes\n",
    "\n",
    " - 1 only \n",
    " - 2 only\n",
    " - 1 and 2  \n",
    " - None\n",
    " \n",
    "Answer : 1 and 2"
   ]
  },
  {
   "cell_type": "code",
   "execution_count": null,
   "id": "ec98c1c8-657a-4832-bdde-87b5248497a4",
   "metadata": {},
   "outputs": [],
   "source": []
  },
  {
   "cell_type": "markdown",
   "id": "4b69e8ab-4f38-405e-bc84-df02cb424564",
   "metadata": {},
   "source": [
    "Q9. What will be the output of the following code: \n",
    "\n",
    " Name = ‘pwskills’\n",
    "\n",
    " Name[0] = ‘P’\n",
    "\n",
    " 1. pwskills\n",
    " 2. Pwskills  \n",
    " 3. TypeError\n",
    " 4. Ppwskills\n",
    " \n",
    "Answer : TypeError"
   ]
  },
  {
   "cell_type": "code",
   "execution_count": null,
   "id": "0b130922-9de2-43a8-8f87-66084a1f3faa",
   "metadata": {},
   "outputs": [],
   "source": []
  },
  {
   "cell_type": "markdown",
   "id": "e98c9c62-c96e-4e90-bb60-fd99c6c0f97c",
   "metadata": {},
   "source": [
    "Q10. What will be the output of the following code:\n",
    "\n",
    "'pwskills'.upper().lower().isupper()\n",
    "\n",
    " 1. False\n",
    " 2. PWSKILLS \n",
    " 3. True\n",
    " 4. pwskills\n",
    " \n",
    "Answer : False"
   ]
  },
  {
   "cell_type": "code",
   "execution_count": null,
   "id": "6b7c169e-73a9-4a89-b959-98bccdda79e5",
   "metadata": {},
   "outputs": [],
   "source": []
  }
 ],
 "metadata": {
  "kernelspec": {
   "display_name": "Python 3 (ipykernel)",
   "language": "python",
   "name": "python3"
  },
  "language_info": {
   "codemirror_mode": {
    "name": "ipython",
    "version": 3
   },
   "file_extension": ".py",
   "mimetype": "text/x-python",
   "name": "python",
   "nbconvert_exporter": "python",
   "pygments_lexer": "ipython3",
   "version": "3.10.8"
  }
 },
 "nbformat": 4,
 "nbformat_minor": 5
}
