{
 "cells": [
  {
   "cell_type": "markdown",
   "id": "1651e6b8-ba19-4261-a2c9-a7691b9b1270",
   "metadata": {},
   "source": [
    "Q1. Answer: Python was developed by Guido van Rossum and first released on February 20, 1991."
   ]
  },
  {
   "cell_type": "markdown",
   "id": "cfccbafd-5302-44d0-9418-a444b1f295f6",
   "metadata": {},
   "source": [
    "Q2. Answer : Python is a multi-paradigm programming language and supports the following programming paradigms:\n",
    "\n",
    "- Object-Oriented Programming (OOP)\n",
    "- Imperative Programming\n",
    "- Functional Programming\n",
    "- Procedural Programming"
   ]
  },
  {
   "cell_type": "markdown",
   "id": "77db924d-6017-48e2-82aa-33b647c4baea",
   "metadata": {},
   "source": [
    "Q3.\n",
    "Answer : Yes, Python is case sensitive when dealing with identifiers. For example, the names \"myVariable\" and \"myvariable\" would be considered two different variables."
   ]
  },
  {
   "cell_type": "markdown",
   "id": "66973cd0-371c-4891-80aa-bacd754fcf23",
   "metadata": {},
   "source": [
    "Q4.\n",
    "Answer : The correct extension for a Python file is \".py\"."
   ]
  },
  {
   "cell_type": "markdown",
   "id": "c3297366-107a-4a48-9389-758a38d2e30b",
   "metadata": {},
   "source": [
    "Q5. Answer : Python code is interpreted, not compiled. When you run a Python script, the interpreter reads the code and executes it line by line,    rather than compiling it into machine code and then executing it, as is the case with compiled languages such as C or C++."
   ]
  },
  {
   "cell_type": "markdown",
   "id": "750cc7fc-8e22-4bad-b1d8-584cad29ccb6",
   "metadata": {},
   "source": [
    "Q6. Answer: In Python, blocks of code are defined using indentation. The following are a few blocks of code used in Python:\n",
    "            Function definition block: Defined using the def keyword and indented under the definition line.\n",
    "            Conditional block (if/else): Indented under the if or else statement.\n",
    "            Loop block (for/while): Indented under the for or while statement.\n",
    "            Class definition block: Defined using the class keyword and indented under the definition line.\n",
    "            Try/Except block: Indented under the try or except statement.\n",
    "            These blocks of code help organize the code and make it easier to read and maintain."
   ]
  },
  {
   "cell_type": "markdown",
   "id": "b5a1fa55-064b-44b9-be6a-258a949e246f",
   "metadata": {},
   "source": [
    "Q7. Answer : The character used to give a single line comment in Python is \"#\". Any text following the \"#\" symbol on a line will be ignored by the interpreter."
   ]
  },
  {
   "cell_type": "markdown",
   "id": "378e4bc4-afe4-4f77-961c-45818aa5221f",
   "metadata": {},
   "source": [
    "Q8. Answer : In Python, the following functions can be used to find the version of Python you are currently working with:\n",
    "\n",
    "sys.version: This returns a string that contains information about the Python version, including the release number, build number, and build date.\n",
    "sys.version_info: This returns a tuple that contains information about the Python version, including the major, minor, and micro release numbers.\n",
    "platform.python_version(): This returns a string that contains the version number of Python you are currently working with.\n",
    "\n",
    "> import sys\n",
    "> print(sys.version)\n",
    "> print(sys.version_info)\n",
    "\n",
    "> import platform\n",
    "> print(platform.python_version())\n"
   ]
  },
  {
   "cell_type": "markdown",
   "id": "510103f4-6e60-4fe2-bfe1-3f64c14cdbf3",
   "metadata": {},
   "source": [
    "Q9. Answer : Python supports the creation of anonymous functions at runtime using a construct called \"lambda\"."
   ]
  },
  {
   "cell_type": "markdown",
   "id": "28ac6c3b-8aa6-49c8-94d4-30d3b7f6259f",
   "metadata": {},
   "source": [
    "--------------------------------------------------------------------------------------------------------------------------------------------------------"
   ]
  },
  {
   "cell_type": "markdown",
   "id": "2eef7ade-426c-4a9a-b06e-9c97d147a006",
   "metadata": {},
   "source": [
    "Q10. Answer : PIP stands for \"Pip Installs Packages\". It is a package management system for installing and managing Python packages. PIP makes it easy to install packages from the Python Package Index (PyPI) or other package indexes, and allows you to manage the dependencies of your Python projects. You can use PIP to install packages from the command line, which makes it a convenient tool for managing your Python environment."
   ]
  },
  {
   "cell_type": "markdown",
   "id": "05eccdf6-00f6-49a3-8e18-7d955081d02c",
   "metadata": {},
   "source": [
    "Q11. Answer : Python has many built-in functions that provide useful functionality and are easy to use. Some of the most commonly used built-in functions are:\n",
    "\n",
    "print: Prints the specified message to the console.\n",
    "len: Returns the length of a string, list, tuple, dictionary, or other collection.\n",
    "int, float, str: Convert a value to an integer, floating-point number, or string, respectively.\n",
    "max and min: Return the maximum and minimum values in a list or other iterable.\n",
    "sum: Returns the sum of the values in a list or other iterable.\n",
    "sorted: Returns a sorted version of a list or other iterable.\n",
    "range: Returns a sequence of numbers, starting from 0 and incrementing by 1 (by default), and stops before a specified number.\n",
    "enumerate: Takes a list and returns an iterable of pairs, where the first element of each pair is the index of the item and the second element is the item itself.\n",
    "zip: Takes two or more lists and returns an iterable of tuples, where each tuple contains the n-th elements from each of the input lists.\n",
    "map: Applies a function to each item in an iterable and returns a new iterable with the results."
   ]
  },
  {
   "cell_type": "markdown",
   "id": "8b32d6c8-4d07-4d94-91ed-d6cf9cb1598e",
   "metadata": {},
   "source": [
    "Q12. Answer : There is no theoretical limit on the length of identifiers in Python, but there is a practical limit of sys.getsizeof(object). The maximum length of an identifier depends on the memory constraints of the machine running the Python interpreter. In general, however, it's safe to assume that you can use very long identifier names without encountering any problems. It's considered good practice to choose meaningful and descriptive names for your identifiers that are as short as possible, while still being clear and easy to understand."
   ]
  },
  {
   "cell_type": "markdown",
   "id": "82b7be92-6abe-4564-8571-029b38827505",
   "metadata": {},
   "source": [
    "Q13. Answer : Python has many benefits that have made it a popular choice for a wide range of applications and use cases. Some of the key benefits of using Python are:\n",
    "\n",
    "Easy to learn and use: Python has a simple and straightforward syntax, which makes it easy to learn and write code.\n",
    "Versatile and multi-purpose: Python can be used for a wide range of applications, including web development, scientific computing, data analysis, artificial intelligence, and more.\n",
    "Large and active community: Python has a large and active community of users and developers, which means that there is a wealth of resources and support available for learning and using the language.\n",
    "Extensive libraries and tools: Python has a large standard library and many third-party libraries and tools that can be used for a wide range of tasks, such as data processing, visualization, machine learning, and more.\n",
    "Platform-independent: Python code can run on any platform, including Windows, macOS, and Linux, which makes it a good choice for cross-platform development.\n",
    "Dynamic typing: Python supports dynamic typing, which means that you can change the type of a variable at runtime, making it easier to write flexible and adaptive code.\n",
    "Interpreted language: Python is an interpreted language, which means that you don't need to compile your code before running it, making the development process faster and more convenient.\n",
    "These are just a few of the benefits of using Python. Overall, its ease of use, versatility, and rich ecosystem make it a popular choice for a wide range of applications and use cases."
   ]
  },
  {
   "cell_type": "markdown",
   "id": "940c6d31-47fd-486b-b143-1a3e1c7edf12",
   "metadata": {},
   "source": [
    "Q14. Answer : In Python, memory management is handled automatically by the Python memory manager. The Python memory manager is responsible for allocating and deallocating memory dynamically, as well as managing the memory used by the Python objects.\n",
    "Python uses a technique called reference counting to keep track of the number of references to each object in memory. When an object is no longer referenced, the memory manager automatically frees the memory used by that object.\n",
    "In addition to reference counting, Python also uses a garbage collector to detect and remove objects that are no longer being used. The garbage collector runs periodically and identifies objects that are no longer reachable from any part of the program, and then frees the memory used by those objects.\n",
    "Overall, Python's memory management system is designed to be efficient, transparent, and convenient, allowing developers to focus on writing code, rather than worrying about manual memory management. However, in some cases, it's still possible to encounter memory-related issues, such as memory leaks, which can impact performance and stability. To minimize these risks, it's important to follow best practices and use Python's built-in tools, such as the memory profiler, to monitor and optimize the memory usage of your applications."
   ]
  },
  {
   "cell_type": "markdown",
   "id": "b1b6beda-9f69-463e-889e-2f57f6691f8e",
   "metadata": {},
   "source": [
    "Q15. Answer : To install Python on Windows and set up the path variables, follow these steps:\n",
    "\n",
    "Download the latest version of Python from the official website (https://www.python.org/downloads/).\n",
    "Run the installer by double-clicking on the downloaded file. Make sure to select the option to \"Add Python to PATH\" during the installation process.\n",
    "After the installation is complete, open the Command Prompt and type \"python\" to check that Python has been installed correctly.\n",
    "To set up the path variables, go to Start menu and search for \"Environment Variables.\" Click on \"Edit the system environment variables.\"\n",
    "In the System Properties window, click on the \"Environment Variables\" button.\n",
    "Scroll down in the \"System Variables\" section and find the \"Path\" variable. Click on \"Edit.\"\n",
    "Add the path to the Python installation to the \"Path\" variable. For example, if you installed Python in the default location, the path would be \"C:\\Python3x\".\n",
    "Click \"OK\" to close the Environment Variables window, and then \"OK\" again to close the System Properties window.\n",
    "Restart the Command Prompt to ensure that the changes to the environment variables take effect."
   ]
  },
  {
   "cell_type": "markdown",
   "id": "1dc64007-f464-499a-99a5-fbcdf92df59b",
   "metadata": {},
   "source": [
    "Q16. Answer : Yes, indentation is required in Python. Indentation is used to define blocks of code, such as loops and function definitions. Unlike other programming languages, which use brackets or other symbols, Python relies solely on indentation to indicate the structure of the code. Proper indentation is a crucial part of Python syntax and helps to make the code readable and easy to understand. Any deviation from the expected indentation can result in syntax errors, so it's important to be consistent and follow the guidelines when writing Python code."
   ]
  },
  {
   "cell_type": "code",
   "execution_count": null,
   "id": "651bcd1c-bd7e-4fa0-ba0f-d4e136379e2c",
   "metadata": {},
   "outputs": [],
   "source": []
  }
 ],
 "metadata": {
  "kernelspec": {
   "display_name": "Python 3 (ipykernel)",
   "language": "python",
   "name": "python3"
  },
  "language_info": {
   "codemirror_mode": {
    "name": "ipython",
    "version": 3
   },
   "file_extension": ".py",
   "mimetype": "text/x-python",
   "name": "python",
   "nbconvert_exporter": "python",
   "pygments_lexer": "ipython3",
   "version": "3.10.8"
  }
 },
 "nbformat": 4,
 "nbformat_minor": 5
}
